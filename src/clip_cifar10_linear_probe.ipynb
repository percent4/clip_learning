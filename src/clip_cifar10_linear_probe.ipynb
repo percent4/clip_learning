{
 "cells": [
  {
   "cell_type": "code",
   "execution_count": 1,
   "id": "4d9321fb-d643-4987-bde3-f559770275c4",
   "metadata": {},
   "outputs": [],
   "source": [
    "from datasets import load_dataset\n",
    "\n",
    "cifar_10 = load_dataset('cifar10')"
   ]
  },
  {
   "cell_type": "code",
   "execution_count": 2,
   "id": "c9b9df70-5d5a-456b-9bd0-49c0b4125cf9",
   "metadata": {},
   "outputs": [],
   "source": [
    "labels = cifar_10['train'].features['label'].names"
   ]
  },
  {
   "cell_type": "code",
   "execution_count": 3,
   "id": "7503097f-ae8d-4ed9-bc85-8a589f3db473",
   "metadata": {},
   "outputs": [],
   "source": [
    "from PIL import Image\n",
    "import requests\n",
    "from transformers import AutoProcessor, CLIPModel\n",
    "import numpy as np"
   ]
  },
  {
   "cell_type": "code",
   "execution_count": 4,
   "id": "03d2ef50-20cb-409c-96a4-aec7fab151b9",
   "metadata": {},
   "outputs": [],
   "source": [
    "model_path = \"/data-ai/usr/lmj/models/clip-vit-base-patch32\"\n",
    "model = CLIPModel.from_pretrained(model_path)\n",
    "processor = AutoProcessor.from_pretrained(model_path)"
   ]
  },
  {
   "cell_type": "code",
   "execution_count": 78,
   "id": "0aa8feec-45ca-4e5b-bcc8-fe674c7ac835",
   "metadata": {},
   "outputs": [],
   "source": [
    "from tqdm import trange\n",
    "\n",
    "# get image feature\n",
    "def get_sample(partition: str):\n",
    "    num = len(cifar_10[partition])\n",
    "    batch_size = 20\n",
    "    images, label_ids = np.empty(shape=(num, 512), dtype=np.float32), np.empty(shape=(num, 1), dtype=np.int8)\n",
    "    data = cifar_10[partition]\n",
    "    for n in trange(0, num, batch_size):\n",
    "        batch_images, batch_label_ids = data[n:n+batch_size]['img'], [[_] for _ in data[n:n+batch_size]['label']]\n",
    "        label_ids[n:n+batch_size, :] = batch_label_ids\n",
    "        inputs = processor(images=batch_images, return_tensors=\"pt\")\n",
    "        image_features = model.get_image_features(**inputs).detach().numpy()\n",
    "        images[n:n+batch_size, :] = image_features\n",
    "    return images, label_ids.ravel()"
   ]
  },
  {
   "cell_type": "code",
   "execution_count": 79,
   "id": "48f180e1-5662-4274-ad5c-be4536e6fc64",
   "metadata": {},
   "outputs": [
    {
     "name": "stderr",
     "output_type": "stream",
     "text": [
      "100%|██████████| 2500/2500 [09:46<00:00,  4.26it/s]\n"
     ]
    }
   ],
   "source": [
    "train_images, train_labels = get_sample('train')"
   ]
  },
  {
   "cell_type": "code",
   "execution_count": 80,
   "id": "128d565c-00e1-4f4b-b2d2-57dfdd4b8aab",
   "metadata": {},
   "outputs": [
    {
     "name": "stderr",
     "output_type": "stream",
     "text": [
      "100%|██████████| 500/500 [01:57<00:00,  4.26it/s]\n"
     ]
    }
   ],
   "source": [
    "test_images, test_labels = get_sample('test')"
   ]
  },
  {
   "cell_type": "code",
   "execution_count": 81,
   "id": "30be4bb2-a45c-48df-a029-988a9fa1a685",
   "metadata": {},
   "outputs": [
    {
     "name": "stderr",
     "output_type": "stream",
     "text": [
      "/opt/conda/envs/lmj/lib/python3.10/site-packages/sklearn/linear_model/_logistic.py:460: ConvergenceWarning: lbfgs failed to converge (status=1):\n",
      "STOP: TOTAL NO. of ITERATIONS REACHED LIMIT.\n",
      "\n",
      "Increase the number of iterations (max_iter) or scale the data as shown in:\n",
      "    https://scikit-learn.org/stable/modules/preprocessing.html\n",
      "Please also refer to the documentation for alternative solver options:\n",
      "    https://scikit-learn.org/stable/modules/linear_model.html#logistic-regression\n",
      "  n_iter_i = _check_optimize_result(\n"
     ]
    }
   ],
   "source": [
    "from sklearn.linear_model import LogisticRegression\n",
    "\n",
    "clf = LogisticRegression(max_iter=1000, random_state=0, C=0.316).fit(train_images, train_labels)"
   ]
  },
  {
   "cell_type": "code",
   "execution_count": 82,
   "id": "2ee79f28-6cdf-49f3-a124-57e8c0d17165",
   "metadata": {},
   "outputs": [],
   "source": [
    "pred_result = clf.predict(test_images)"
   ]
  },
  {
   "cell_type": "code",
   "execution_count": 83,
   "id": "be229997-d823-4d49-a34e-3bed58531fc8",
   "metadata": {},
   "outputs": [
    {
     "name": "stdout",
     "output_type": "stream",
     "text": [
      "              precision    recall  f1-score   support\n",
      "\n",
      "    airplane     0.9631    0.9660    0.9646      1000\n",
      "  automobile     0.9750    0.9760    0.9755      1000\n",
      "        bird     0.9412    0.9280    0.9345      1000\n",
      "         cat     0.8924    0.9040    0.8982      1000\n",
      "        deer     0.9266    0.9340    0.9303      1000\n",
      "         dog     0.9291    0.9170    0.9230      1000\n",
      "        frog     0.9467    0.9600    0.9533      1000\n",
      "       horse     0.9757    0.9630    0.9693      1000\n",
      "        ship     0.9770    0.9780    0.9775      1000\n",
      "       truck     0.9750    0.9750    0.9750      1000\n",
      "\n",
      "    accuracy                         0.9501     10000\n",
      "   macro avg     0.9502    0.9501    0.9501     10000\n",
      "weighted avg     0.9502    0.9501    0.9501     10000\n",
      "\n"
     ]
    }
   ],
   "source": [
    "from sklearn.metrics import classification_report\n",
    "\n",
    "print(classification_report(test_labels, pred_result, target_names=labels, digits=4))"
   ]
  },
  {
   "cell_type": "code",
   "execution_count": null,
   "id": "39137f21-68d3-4301-8eff-54b381334158",
   "metadata": {},
   "outputs": [],
   "source": []
  }
 ],
 "metadata": {
  "kernelspec": {
   "display_name": "Python 3 (ipykernel)",
   "language": "python",
   "name": "python3"
  },
  "language_info": {
   "codemirror_mode": {
    "name": "ipython",
    "version": 3
   },
   "file_extension": ".py",
   "mimetype": "text/x-python",
   "name": "python",
   "nbconvert_exporter": "python",
   "pygments_lexer": "ipython3",
   "version": "3.9.17"
  }
 },
 "nbformat": 4,
 "nbformat_minor": 5
}
