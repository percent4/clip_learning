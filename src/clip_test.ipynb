{
 "cells": [
  {
   "cell_type": "code",
   "execution_count": 1,
   "id": "cb02d5ab-1fa8-462c-a945-386a2b80a55e",
   "metadata": {},
   "outputs": [],
   "source": [
    "from PIL import Image\n",
    "import requests\n",
    "from transformers import CLIPProcessor, CLIPModel"
   ]
  },
  {
   "cell_type": "code",
   "execution_count": 2,
   "id": "edad778f-e065-4281-8549-688b3f19c0ea",
   "metadata": {},
   "outputs": [],
   "source": [
    "model_path = \"/data-ai/usr/lmj/models/clip-vit-base-patch32\"\n",
    "model = CLIPModel.from_pretrained(model_path)\n",
    "processor = CLIPProcessor.from_pretrained(model_path)"
   ]
  },
  {
   "cell_type": "code",
   "execution_count": 37,
   "id": "30157f08-cdea-42cb-921c-6bb41379545b",
   "metadata": {},
   "outputs": [],
   "source": [
    "url = \"https://tydata.touying.com/album/202208/26/162550ex8g2l8lil2ahlsh.png!w800\"\n",
    "image = Image.open(requests.get(url, stream=True).raw)"
   ]
  },
  {
   "cell_type": "code",
   "execution_count": 45,
   "id": "593157dc-9eda-4158-9bcf-b983c122c75f",
   "metadata": {},
   "outputs": [
    {
     "data": {
      "text/plain": [
       "PIL.JpegImagePlugin.JpegImageFile"
      ]
     },
     "execution_count": 45,
     "metadata": {},
     "output_type": "execute_result"
    }
   ],
   "source": [
    "type(image)"
   ]
  },
  {
   "cell_type": "code",
   "execution_count": 39,
   "id": "807a81c3-befb-4323-8bfc-aa432667ee2f",
   "metadata": {},
   "outputs": [],
   "source": [
    "text = [\"a photo of a computer\", \"a photo of a mouse\", \"a photo of a keyboard\", \"a photo of a cellphone\"]\n",
    "inputs = processor(text=text, images=image, return_tensors=\"pt\", padding=True)"
   ]
  },
  {
   "cell_type": "code",
   "execution_count": 40,
   "id": "07c0b6af-b076-4334-bee7-b263efff7095",
   "metadata": {},
   "outputs": [],
   "source": [
    "outputs = model(**inputs)"
   ]
  },
  {
   "cell_type": "code",
   "execution_count": 41,
   "id": "3aee11a9-f7b3-4967-b986-38f46cf08c5a",
   "metadata": {},
   "outputs": [],
   "source": [
    "logits_per_image = outputs.logits_per_image"
   ]
  },
  {
   "cell_type": "code",
   "execution_count": 42,
   "id": "24b21260-ae3a-4a51-be93-1246412402e7",
   "metadata": {},
   "outputs": [
    {
     "data": {
      "text/plain": [
       "tensor([[22.0141, 21.4184, 19.4461, 24.5632]], grad_fn=<TBackward0>)"
      ]
     },
     "execution_count": 42,
     "metadata": {},
     "output_type": "execute_result"
    }
   ],
   "source": [
    "logits_per_image"
   ]
  },
  {
   "cell_type": "code",
   "execution_count": 43,
   "id": "5737b59b-7b6b-4e09-ade7-d6e7ded16217",
   "metadata": {},
   "outputs": [],
   "source": [
    "probs = logits_per_image.softmax(dim=1)"
   ]
  },
  {
   "cell_type": "code",
   "execution_count": 44,
   "id": "0e8a83ca-27b5-4414-bf41-ea1a7b5dba4f",
   "metadata": {},
   "outputs": [
    {
     "data": {
      "text/plain": [
       "[[0.06933382153511047,\n",
       "  0.0382152795791626,\n",
       "  0.005317334085702896,\n",
       "  0.8871335387229919]]"
      ]
     },
     "execution_count": 44,
     "metadata": {},
     "output_type": "execute_result"
    }
   ],
   "source": [
    "probs.detach().numpy().tolist()"
   ]
  },
  {
   "cell_type": "code",
   "execution_count": 21,
   "id": "1eb028ac-ce2b-4525-bf6e-fdb55e07f106",
   "metadata": {},
   "outputs": [],
   "source": [
    "# image batch inference\n",
    "urls = ['https://tydata.touying.com/album/202208/26/162550ex8g2l8lil2ahlsh.png!w800',\n",
    "      'https://image.guojj.com/exhibition/30/18/089ee4b20a02f20c21393a5a89827f49.jpg',\n",
    "      'https://openfile.meizu.com/group1/M00/0B/37/Cgbj0GTaGi6AK5TZAApI248naWQ139.png@480x480.jpg',\n",
    "       'https://img2.gomein.net.cn/image//img/201204/10000107/1000151468/1000324012_360.jpg',\n",
    "       'https://encrypted-tbn0.gstatic.com/images?q=tbn:ANd9GcS8GuYYzCUEs0l-Bo1PSTuLKEo2PMI3aKsdZw&usqp=CAU']\n",
    "images = [Image.open(requests.get(url, stream=True).raw) for url in urls]"
   ]
  },
  {
   "cell_type": "code",
   "execution_count": 22,
   "id": "ea6e7598-1ddd-495e-99ca-8093fd00b54d",
   "metadata": {},
   "outputs": [],
   "source": [
    "text = [\"a photo of a computer\", \"a photo of a mouse\", \"a photo of a keyboard\", \"a photo of a mobile phone\"]\n",
    "inputs = processor(text=text, images=images, return_tensors=\"pt\", padding=True)"
   ]
  },
  {
   "cell_type": "code",
   "execution_count": 23,
   "id": "6603aa53-a2e0-4df3-aef5-ee01f734d5b5",
   "metadata": {},
   "outputs": [
    {
     "data": {
      "text/plain": [
       "tensor([[22.0141, 21.4184, 19.4461, 26.0394],\n",
       "        [27.9471, 19.9922, 21.7536, 20.0816],\n",
       "        [19.9711, 19.6626, 16.9671, 26.0194],\n",
       "        [24.5486, 26.6214, 22.3131, 20.5676],\n",
       "        [24.3437, 20.4304, 29.4832, 21.9115]], grad_fn=<TBackward0>)"
      ]
     },
     "execution_count": 23,
     "metadata": {},
     "output_type": "execute_result"
    }
   ],
   "source": [
    "outputs = model(**inputs)\n",
    "logits_per_image = outputs.logits_per_image\n",
    "logits_per_image"
   ]
  },
  {
   "cell_type": "code",
   "execution_count": 24,
   "id": "864f010a-9f82-414c-be1b-ed79e6cf7671",
   "metadata": {},
   "outputs": [],
   "source": [
    "probs = logits_per_image.softmax(dim=1)"
   ]
  },
  {
   "cell_type": "code",
   "execution_count": 27,
   "id": "c9c07228-2006-425d-a0ea-ef934dffbfba",
   "metadata": {},
   "outputs": [],
   "source": [
    "import numpy as np\n",
    "label_ids = np.argmax(probs.detach().numpy(), axis=1).tolist()"
   ]
  },
  {
   "cell_type": "code",
   "execution_count": 30,
   "id": "00866fbb-c3ed-41e4-a391-a1bd8b075687",
   "metadata": {},
   "outputs": [
    {
     "name": "stdout",
     "output_type": "stream",
     "text": [
      "a photo of a mobile phone\n",
      "a photo of a computer\n",
      "a photo of a mobile phone\n",
      "a photo of a mouse\n",
      "a photo of a keyboard\n"
     ]
    }
   ],
   "source": [
    "for label_id in label_ids:\n",
    "    print(text[label_id])"
   ]
  },
  {
   "cell_type": "code",
   "execution_count": null,
   "id": "20c00981-9f5d-4ab1-abf3-3734c1cb4305",
   "metadata": {},
   "outputs": [],
   "source": []
  }
 ],
 "metadata": {
  "kernelspec": {
   "display_name": "Python 3 (ipykernel)",
   "language": "python",
   "name": "python3"
  },
  "language_info": {
   "codemirror_mode": {
    "name": "ipython",
    "version": 3
   },
   "file_extension": ".py",
   "mimetype": "text/x-python",
   "name": "python",
   "nbconvert_exporter": "python",
   "pygments_lexer": "ipython3",
   "version": "3.10.13"
  }
 },
 "nbformat": 4,
 "nbformat_minor": 5
}
