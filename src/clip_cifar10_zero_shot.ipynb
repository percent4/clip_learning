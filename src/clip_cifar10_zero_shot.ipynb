{
 "cells": [
  {
   "cell_type": "code",
   "execution_count": 1,
   "id": "d3db6408-41a5-4749-8954-c9682ea3279d",
   "metadata": {},
   "outputs": [],
   "source": [
    "from datasets import load_dataset\n",
    "\n",
    "cifar_10_test = load_dataset('cifar10', split='test')"
   ]
  },
  {
   "cell_type": "code",
   "execution_count": 2,
   "id": "351593c7-5699-487f-accd-3a6e3c2b4f1e",
   "metadata": {},
   "outputs": [
    {
     "name": "stdout",
     "output_type": "stream",
     "text": [
      "{'img': <PIL.PngImagePlugin.PngImageFile image mode=RGB size=32x32 at 0x7F5891C2B1F0>, 'label': 3}\n",
      "{'img': <PIL.PngImagePlugin.PngImageFile image mode=RGB size=32x32 at 0x7F5890261420>, 'label': 8}\n",
      "{'img': <PIL.PngImagePlugin.PngImageFile image mode=RGB size=32x32 at 0x7F5CACB33670>, 'label': 8}\n",
      "{'img': <PIL.PngImagePlugin.PngImageFile image mode=RGB size=32x32 at 0x7F5890261420>, 'label': 0}\n",
      "{'img': <PIL.PngImagePlugin.PngImageFile image mode=RGB size=32x32 at 0x7F5CACB33640>, 'label': 6}\n",
      "{'img': <PIL.PngImagePlugin.PngImageFile image mode=RGB size=32x32 at 0x7F5890261420>, 'label': 6}\n",
      "{'img': <PIL.PngImagePlugin.PngImageFile image mode=RGB size=32x32 at 0x7F5CACB33580>, 'label': 1}\n",
      "{'img': <PIL.PngImagePlugin.PngImageFile image mode=RGB size=32x32 at 0x7F5890261420>, 'label': 6}\n",
      "{'img': <PIL.PngImagePlugin.PngImageFile image mode=RGB size=32x32 at 0x7F5CACB30670>, 'label': 3}\n",
      "{'img': <PIL.PngImagePlugin.PngImageFile image mode=RGB size=32x32 at 0x7F5890261420>, 'label': 1}\n"
     ]
    }
   ],
   "source": [
    "for _ in cifar_10_test.select(range(10)):\n",
    "    print(_)"
   ]
  },
  {
   "cell_type": "code",
   "execution_count": 3,
   "id": "a46aaf2e-0f75-4cfd-8da3-d6302a685015",
   "metadata": {},
   "outputs": [],
   "source": [
    "labels = cifar_10_test.features['label'].names\n",
    "label_id_dict = dict(zip(labels, range(len(labels))))\n",
    "id_label_dict = dict(zip(range(len(labels)), labels))"
   ]
  },
  {
   "cell_type": "code",
   "execution_count": 4,
   "id": "f1af17f8-05ee-4314-8b09-fd27aca9350d",
   "metadata": {},
   "outputs": [
    {
     "data": {
      "text/plain": [
       "['airplane',\n",
       " 'automobile',\n",
       " 'bird',\n",
       " 'cat',\n",
       " 'deer',\n",
       " 'dog',\n",
       " 'frog',\n",
       " 'horse',\n",
       " 'ship',\n",
       " 'truck']"
      ]
     },
     "execution_count": 4,
     "metadata": {},
     "output_type": "execute_result"
    }
   ],
   "source": [
    "labels"
   ]
  },
  {
   "cell_type": "code",
   "execution_count": 5,
   "id": "46666a1e-7662-4320-a577-bd12c233c3f2",
   "metadata": {},
   "outputs": [],
   "source": [
    "from PIL import Image\n",
    "import requests\n",
    "from transformers import CLIPProcessor, CLIPModel, CLIPImageProcessor, AutoTokenizer\n",
    "import numpy as np"
   ]
  },
  {
   "cell_type": "code",
   "execution_count": 6,
   "id": "21f11768-a681-4b92-81c7-f990f9fc5d09",
   "metadata": {},
   "outputs": [],
   "source": [
    "prompt = [f\"a photo of a {label}\" for label in labels]"
   ]
  },
  {
   "cell_type": "code",
   "execution_count": 7,
   "id": "1eaf8f2c-380f-4e27-aa08-9f26eb342c21",
   "metadata": {},
   "outputs": [
    {
     "data": {
      "text/plain": [
       "['a photo of a airplane',\n",
       " 'a photo of a automobile',\n",
       " 'a photo of a bird',\n",
       " 'a photo of a cat',\n",
       " 'a photo of a deer',\n",
       " 'a photo of a dog',\n",
       " 'a photo of a frog',\n",
       " 'a photo of a horse',\n",
       " 'a photo of a ship',\n",
       " 'a photo of a truck']"
      ]
     },
     "execution_count": 7,
     "metadata": {},
     "output_type": "execute_result"
    }
   ],
   "source": [
    "prompt"
   ]
  },
  {
   "cell_type": "code",
   "execution_count": 9,
   "id": "e20098aa-76c7-423b-bc6c-71b55414106f",
   "metadata": {},
   "outputs": [],
   "source": [
    "model_path = \"/data-ai/usr/lmj/models/clip-vit-base-patch32\"\n",
    "model = CLIPModel.from_pretrained(model_path)\n",
    "processor = CLIPProcessor.from_pretrained(model_path)"
   ]
  },
  {
   "cell_type": "code",
   "execution_count": 10,
   "id": "42f2b463-49ea-4080-a83c-5e3dae54faff",
   "metadata": {},
   "outputs": [
    {
     "data": {
      "text/plain": [
       "CLIPConfig {\n",
       "  \"_name_or_path\": \"/data-ai/usr/lmj/models/clip-vit-base-patch32\",\n",
       "  \"architectures\": [\n",
       "    \"CLIPModel\"\n",
       "  ],\n",
       "  \"initializer_factor\": 1.0,\n",
       "  \"logit_scale_init_value\": 2.6592,\n",
       "  \"model_type\": \"clip\",\n",
       "  \"projection_dim\": 512,\n",
       "  \"text_config\": {\n",
       "    \"bos_token_id\": 0,\n",
       "    \"dropout\": 0.0,\n",
       "    \"eos_token_id\": 2,\n",
       "    \"model_type\": \"clip_text_model\"\n",
       "  },\n",
       "  \"transformers_version\": \"4.36.2\",\n",
       "  \"vision_config\": {\n",
       "    \"dropout\": 0.0,\n",
       "    \"model_type\": \"clip_vision_model\"\n",
       "  }\n",
       "}"
      ]
     },
     "execution_count": 10,
     "metadata": {},
     "output_type": "execute_result"
    }
   ],
   "source": [
    "model.config"
   ]
  },
  {
   "cell_type": "code",
   "execution_count": 11,
   "id": "386ba54b-a357-47b8-8bb0-e7029a08173f",
   "metadata": {},
   "outputs": [],
   "source": [
    "def get_image_predict_label(images):\n",
    "    inputs = processor(text=prompt, images=images, return_tensors=\"pt\", padding=True)\n",
    "    outputs = model(**inputs)\n",
    "    logits_per_image = outputs.logits_per_image\n",
    "    probs = logits_per_image.softmax(dim=1)\n",
    "    label_ids = np.argmax(probs.detach().numpy(), axis=1).tolist()\n",
    "    return [id_label_dict[label_id] for label_id in label_ids]"
   ]
  },
  {
   "cell_type": "code",
   "execution_count": 12,
   "id": "0f612a47-cc60-4f24-85a1-2ec913429b3a",
   "metadata": {},
   "outputs": [
    {
     "data": {
      "text/plain": [
       "[<PIL.PngImagePlugin.PngImageFile image mode=RGB size=32x32>,\n",
       " <PIL.PngImagePlugin.PngImageFile image mode=RGB size=32x32>,\n",
       " <PIL.PngImagePlugin.PngImageFile image mode=RGB size=32x32>,\n",
       " <PIL.PngImagePlugin.PngImageFile image mode=RGB size=32x32>,\n",
       " <PIL.PngImagePlugin.PngImageFile image mode=RGB size=32x32>]"
      ]
     },
     "execution_count": 12,
     "metadata": {},
     "output_type": "execute_result"
    }
   ],
   "source": [
    "images = [_['img'] for _ in cifar_10_test.select(range(5))]\n",
    "images"
   ]
  },
  {
   "cell_type": "code",
   "execution_count": 13,
   "id": "91bf2e35-157e-42af-a881-bb22cd62a3de",
   "metadata": {},
   "outputs": [
    {
     "data": {
      "text/plain": [
       "['cat', 'ship', 'ship', 'airplane', 'frog']"
      ]
     },
     "execution_count": 13,
     "metadata": {},
     "output_type": "execute_result"
    }
   ],
   "source": [
    "test_labels = get_image_predict_label(images=images)\n",
    "test_labels"
   ]
  },
  {
   "cell_type": "code",
   "execution_count": 14,
   "id": "6c76a7b7-b34d-4ac4-bee8-f830117d5a4a",
   "metadata": {},
   "outputs": [
    {
     "name": "stdout",
     "output_type": "stream",
     "text": [
      "32 64\n",
      "64 96\n",
      "96 128\n",
      "128 160\n",
      "160 192\n",
      "192 224\n",
      "224 256\n",
      "256 288\n",
      "288 320\n",
      "320 352\n",
      "352 384\n",
      "384 416\n",
      "416 448\n",
      "448 480\n",
      "480 512\n",
      "512 544\n",
      "544 576\n",
      "576 608\n",
      "608 640\n",
      "640 672\n",
      "672 704\n",
      "704 736\n",
      "736 768\n",
      "768 800\n",
      "800 832\n",
      "832 864\n",
      "864 896\n",
      "896 928\n",
      "928 960\n",
      "960 992\n",
      "992 1024\n",
      "1024 1056\n",
      "1056 1088\n",
      "1088 1120\n",
      "1120 1152\n",
      "1152 1184\n",
      "1184 1216\n",
      "1216 1248\n",
      "1248 1280\n",
      "1280 1312\n",
      "1312 1344\n",
      "1344 1376\n",
      "1376 1408\n",
      "1408 1440\n",
      "1440 1472\n",
      "1472 1504\n",
      "1504 1536\n",
      "1536 1568\n",
      "1568 1600\n",
      "1600 1632\n",
      "1632 1664\n",
      "1664 1696\n",
      "1696 1728\n",
      "1728 1760\n",
      "1760 1792\n",
      "1792 1824\n",
      "1824 1856\n",
      "1856 1888\n",
      "1888 1920\n",
      "1920 1952\n",
      "1952 1984\n",
      "1984 2016\n",
      "2016 2048\n",
      "2048 2080\n",
      "2080 2112\n",
      "2112 2144\n",
      "2144 2176\n",
      "2176 2208\n",
      "2208 2240\n",
      "2240 2272\n",
      "2272 2304\n",
      "2304 2336\n",
      "2336 2368\n",
      "2368 2400\n",
      "2400 2432\n",
      "2432 2464\n",
      "2464 2496\n",
      "2496 2528\n",
      "2528 2560\n",
      "2560 2592\n",
      "2592 2624\n",
      "2624 2656\n",
      "2656 2688\n",
      "2688 2720\n",
      "2720 2752\n",
      "2752 2784\n",
      "2784 2816\n",
      "2816 2848\n",
      "2848 2880\n",
      "2880 2912\n",
      "2912 2944\n",
      "2944 2976\n",
      "2976 3008\n",
      "3008 3040\n",
      "3040 3072\n",
      "3072 3104\n",
      "3104 3136\n",
      "3136 3168\n",
      "3168 3200\n",
      "3200 3232\n",
      "3232 3264\n",
      "3264 3296\n",
      "3296 3328\n",
      "3328 3360\n",
      "3360 3392\n",
      "3392 3424\n",
      "3424 3456\n",
      "3456 3488\n",
      "3488 3520\n",
      "3520 3552\n",
      "3552 3584\n",
      "3584 3616\n",
      "3616 3648\n",
      "3648 3680\n",
      "3680 3712\n",
      "3712 3744\n",
      "3744 3776\n",
      "3776 3808\n",
      "3808 3840\n",
      "3840 3872\n",
      "3872 3904\n",
      "3904 3936\n",
      "3936 3968\n",
      "3968 4000\n",
      "4000 4032\n",
      "4032 4064\n",
      "4064 4096\n",
      "4096 4128\n",
      "4128 4160\n",
      "4160 4192\n",
      "4192 4224\n",
      "4224 4256\n",
      "4256 4288\n",
      "4288 4320\n",
      "4320 4352\n",
      "4352 4384\n",
      "4384 4416\n",
      "4416 4448\n",
      "4448 4480\n",
      "4480 4512\n",
      "4512 4544\n",
      "4544 4576\n",
      "4576 4608\n",
      "4608 4640\n",
      "4640 4672\n",
      "4672 4704\n",
      "4704 4736\n",
      "4736 4768\n",
      "4768 4800\n",
      "4800 4832\n",
      "4832 4864\n",
      "4864 4896\n",
      "4896 4928\n",
      "4928 4960\n",
      "4960 4992\n",
      "4992 5024\n",
      "5024 5056\n",
      "5056 5088\n",
      "5088 5120\n",
      "5120 5152\n",
      "5152 5184\n",
      "5184 5216\n",
      "5216 5248\n",
      "5248 5280\n",
      "5280 5312\n",
      "5312 5344\n",
      "5344 5376\n",
      "5376 5408\n",
      "5408 5440\n",
      "5440 5472\n",
      "5472 5504\n",
      "5504 5536\n",
      "5536 5568\n",
      "5568 5600\n",
      "5600 5632\n",
      "5632 5664\n",
      "5664 5696\n",
      "5696 5728\n",
      "5728 5760\n",
      "5760 5792\n",
      "5792 5824\n",
      "5824 5856\n",
      "5856 5888\n",
      "5888 5920\n",
      "5920 5952\n",
      "5952 5984\n",
      "5984 6016\n",
      "6016 6048\n",
      "6048 6080\n",
      "6080 6112\n",
      "6112 6144\n",
      "6144 6176\n",
      "6176 6208\n",
      "6208 6240\n",
      "6240 6272\n",
      "6272 6304\n",
      "6304 6336\n",
      "6336 6368\n",
      "6368 6400\n",
      "6400 6432\n",
      "6432 6464\n",
      "6464 6496\n",
      "6496 6528\n",
      "6528 6560\n",
      "6560 6592\n",
      "6592 6624\n",
      "6624 6656\n",
      "6656 6688\n",
      "6688 6720\n",
      "6720 6752\n",
      "6752 6784\n",
      "6784 6816\n",
      "6816 6848\n",
      "6848 6880\n",
      "6880 6912\n",
      "6912 6944\n",
      "6944 6976\n",
      "6976 7008\n",
      "7008 7040\n",
      "7040 7072\n",
      "7072 7104\n",
      "7104 7136\n",
      "7136 7168\n",
      "7168 7200\n",
      "7200 7232\n",
      "7232 7264\n",
      "7264 7296\n",
      "7296 7328\n",
      "7328 7360\n",
      "7360 7392\n",
      "7392 7424\n",
      "7424 7456\n",
      "7456 7488\n",
      "7488 7520\n",
      "7520 7552\n",
      "7552 7584\n",
      "7584 7616\n",
      "7616 7648\n",
      "7648 7680\n",
      "7680 7712\n",
      "7712 7744\n",
      "7744 7776\n",
      "7776 7808\n",
      "7808 7840\n",
      "7840 7872\n",
      "7872 7904\n",
      "7904 7936\n",
      "7936 7968\n",
      "7968 8000\n",
      "8000 8032\n",
      "8032 8064\n",
      "8064 8096\n",
      "8096 8128\n",
      "8128 8160\n",
      "8160 8192\n",
      "8192 8224\n",
      "8224 8256\n",
      "8256 8288\n",
      "8288 8320\n",
      "8320 8352\n",
      "8352 8384\n",
      "8384 8416\n",
      "8416 8448\n",
      "8448 8480\n",
      "8480 8512\n",
      "8512 8544\n",
      "8544 8576\n",
      "8576 8608\n",
      "8608 8640\n",
      "8640 8672\n",
      "8672 8704\n",
      "8704 8736\n",
      "8736 8768\n",
      "8768 8800\n",
      "8800 8832\n",
      "8832 8864\n",
      "8864 8896\n",
      "8896 8928\n",
      "8928 8960\n",
      "8960 8992\n",
      "8992 9024\n",
      "9024 9056\n",
      "9056 9088\n",
      "9088 9120\n",
      "9120 9152\n",
      "9152 9184\n",
      "9184 9216\n",
      "9216 9248\n",
      "9248 9280\n",
      "9280 9312\n",
      "9312 9344\n",
      "9344 9376\n",
      "9376 9408\n",
      "9408 9440\n",
      "9440 9472\n",
      "9472 9504\n",
      "9504 9536\n",
      "9536 9568\n",
      "9568 9600\n",
      "9600 9632\n",
      "9632 9664\n",
      "9664 9696\n",
      "9696 9728\n",
      "9728 9760\n",
      "9760 9792\n",
      "9792 9824\n",
      "9824 9856\n",
      "9856 9888\n",
      "9888 9920\n",
      "9920 9952\n",
      "9952 9984\n",
      "9984 10016\n",
      "10016 10048\n",
      "cost time:  123.75668239593506\n"
     ]
    }
   ],
   "source": [
    "from sklearn.metrics import classification_report\n",
    "from tqdm import tqdm\n",
    "import time\n",
    "\n",
    "y_true = []\n",
    "y_pred = []\n",
    "\n",
    "s_time = time.time()\n",
    "batch_size = 32\n",
    "start = 0\n",
    "end = batch_size\n",
    "while start < len(cifar_10_test):\n",
    "    sample = cifar_10_test[start:end]\n",
    "    img_list, label_id_list = sample['img'], sample['label']\n",
    "    y_true.extend([id_label_dict[label_id] for label_id in label_id_list])\n",
    "    y_pred.extend(get_image_predict_label(images=img_list))\n",
    "    start = end\n",
    "    end += batch_size\n",
    "    print(start, end)\n",
    "print('cost time: ', time.time() - s_time)"
   ]
  },
  {
   "cell_type": "code",
   "execution_count": 46,
   "id": "c7bdc70c-aadd-46cd-9762-a91b7ed9e0be",
   "metadata": {},
   "outputs": [
    {
     "name": "stdout",
     "output_type": "stream",
     "text": [
      "              precision    recall  f1-score   support\n",
      "\n",
      "    airplane     0.9504    0.9010    0.9251      1000\n",
      "  automobile     0.8785    0.9760    0.9247      1000\n",
      "        bird     0.8124    0.8880    0.8485      1000\n",
      "         cat     0.8190    0.8600    0.8390      1000\n",
      "        deer     0.9341    0.7650    0.8411      1000\n",
      "         dog     0.8508    0.8840    0.8671      1000\n",
      "        frog     0.9699    0.7740    0.8610      1000\n",
      "       horse     0.8127    0.9760    0.8869      1000\n",
      "        ship     0.9446    0.9550    0.9498      1000\n",
      "       truck     0.9688    0.9010    0.9337      1000\n",
      "\n",
      "    accuracy                         0.8880     10000\n",
      "   macro avg     0.8941    0.8880    0.8877     10000\n",
      "weighted avg     0.8941    0.8880    0.8877     10000\n",
      "\n"
     ]
    }
   ],
   "source": [
    "print(classification_report(y_true, y_pred, target_names=labels, digits=4))"
   ]
  },
  {
   "cell_type": "code",
   "execution_count": 39,
   "id": "9cb00202-26ba-417a-b30c-3b59eb65433f",
   "metadata": {},
   "outputs": [
    {
     "data": {
      "text/plain": [
       "<sklearn.metrics._plot.confusion_matrix.ConfusionMatrixDisplay at 0x7f0becd19270>"
      ]
     },
     "execution_count": 39,
     "metadata": {},
     "output_type": "execute_result"
    },
    {
     "data": {
      "image/png": "[encoded data removed]",
      "text/plain": [
       "<Figure size 640x480 with 2 Axes>"
      ]
     },
     "metadata": {},
     "output_type": "display_data"
    }
   ],
   "source": [
    "import matplotlib.pyplot as plt\n",
    "from sklearn.metrics import confusion_matrix, ConfusionMatrixDisplay\n",
    "cm = confusion_matrix(y_true, y_pred, labels=labels)\n",
    "disp = ConfusionMatrixDisplay(confusion_matrix=cm, display_labels=labels)\n",
    "disp.plot(xticks_rotation=\"vertical\")"
   ]
  },
  {
   "cell_type": "code",
   "execution_count": null,
   "id": "d5e05188-1d55-4466-975e-099899c07867",
   "metadata": {},
   "outputs": [],
   "source": []
  }
 ],
 "metadata": {
  "kernelspec": {
   "display_name": "Python 3 (ipykernel)",
   "language": "python",
   "name": "python3"
  },
  "language_info": {
   "codemirror_mode": {
    "name": "ipython",
    "version": 3
   },
   "file_extension": ".py",
   "mimetype": "text/x-python",
   "name": "python",
   "nbconvert_exporter": "python",
   "pygments_lexer": "ipython3",
   "version": "3.9.17"
  }
 },
 "nbformat": 4,
 "nbformat_minor": 5
}
